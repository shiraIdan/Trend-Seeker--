{
 "cells": [
  {
   "cell_type": "markdown",
   "metadata": {},
   "source": [
    "This script processes and analyzes customer feedback for different food recipes. It uses Named Entity Recognition (NER) to identify food names in customer reviews and a sentiment analysis function to classify these reviews as either 'good' or 'bad'. The script then aggregates the sentiment analysis results for each food item, resulting in a dictionary where each key is a food name and each value is another dictionary containing the counts of 'good' and 'bad' feedback. The aggregated results are printed out for further interpretation and analysis\n"
   ]
  },
  {
   "cell_type": "code",
   "execution_count": null,
   "metadata": {},
   "outputs": [],
   "source": [
    "import pandas as pd\n",
    "import re\n",
    "import random\n",
    "import spacy\n",
    "from spacy.util import minibatch, compounding\n",
    "import warnings\n",
    "import matplotlib.pyplot as plt\n",
    "from spacy.training.example import Example\n",
    "from spacy.training import offsets_to_biluo_tags"
   ]
  },
  {
   "cell_type": "markdown",
   "metadata": {},
   "source": [
    "### 1. Data Preparation\n",
    "The script starts by loading a CSV file containing recipe details. It then cleans the data by removing special characters and converting all text to lowercase. It also filters out food items with more than three words and removes duplicates. The script then creates a bar plot to visualize the number of words in the food entities."
   ]
  },
  {
   "cell_type": "code",
   "execution_count": 3,
   "metadata": {},
   "outputs": [
    {
     "data": {
      "text/html": [
       "<div>\n",
       "<style scoped>\n",
       "    .dataframe tbody tr th:only-of-type {\n",
       "        vertical-align: middle;\n",
       "    }\n",
       "\n",
       "    .dataframe tbody tr th {\n",
       "        vertical-align: top;\n",
       "    }\n",
       "\n",
       "    .dataframe thead th {\n",
       "        text-align: right;\n",
       "    }\n",
       "</style>\n",
       "<table border=\"1\" class=\"dataframe\">\n",
       "  <thead>\n",
       "    <tr style=\"text-align: right;\">\n",
       "      <th></th>\n",
       "      <th>Recipe ID</th>\n",
       "      <th>Title</th>\n",
       "      <th>Source</th>\n",
       "      <th>Cuisine</th>\n",
       "    </tr>\n",
       "  </thead>\n",
       "  <tbody>\n",
       "    <tr>\n",
       "      <th>0</th>\n",
       "      <td>1</td>\n",
       "      <td>5 spice vegetable fried rice</td>\n",
       "      <td>TARLA_DALAL</td>\n",
       "      <td>Indian Subcontinent</td>\n",
       "    </tr>\n",
       "    <tr>\n",
       "      <th>1</th>\n",
       "      <td>2</td>\n",
       "      <td>aachar aaloo</td>\n",
       "      <td>TARLA_DALAL</td>\n",
       "      <td>Indian Subcontinent</td>\n",
       "    </tr>\n",
       "    <tr>\n",
       "      <th>2</th>\n",
       "      <td>3</td>\n",
       "      <td>aadu lassan keri nu athanu</td>\n",
       "      <td>TARLA_DALAL</td>\n",
       "      <td>Indian Subcontinent</td>\n",
       "    </tr>\n",
       "    <tr>\n",
       "      <th>3</th>\n",
       "      <td>4</td>\n",
       "      <td>aaloo kofta</td>\n",
       "      <td>TARLA_DALAL</td>\n",
       "      <td>Indian Subcontinent</td>\n",
       "    </tr>\n",
       "    <tr>\n",
       "      <th>4</th>\n",
       "      <td>5</td>\n",
       "      <td>aaloo tamatar subzi</td>\n",
       "      <td>TARLA_DALAL</td>\n",
       "      <td>Indian Subcontinent</td>\n",
       "    </tr>\n",
       "  </tbody>\n",
       "</table>\n",
       "</div>"
      ],
      "text/plain": [
       "   Recipe ID                         Title       Source              Cuisine\n",
       "0          1  5 spice vegetable fried rice  TARLA_DALAL  Indian Subcontinent\n",
       "1          2                  aachar aaloo  TARLA_DALAL  Indian Subcontinent\n",
       "2          3    aadu lassan keri nu athanu  TARLA_DALAL  Indian Subcontinent\n",
       "3          4                   aaloo kofta  TARLA_DALAL  Indian Subcontinent\n",
       "4          5           aaloo tamatar subzi  TARLA_DALAL  Indian Subcontinent"
      ]
     },
     "execution_count": 3,
     "metadata": {},
     "output_type": "execute_result"
    }
   ],
   "source": [
    "food_df = pd.read_csv(\"database/01_Recipe_Details.csv\")\n",
    "food_df.head()"
   ]
  },
  {
   "cell_type": "code",
   "execution_count": 6,
   "metadata": {},
   "outputs": [],
   "source": [
    "food_df[\"Title\"].size\n",
    "# diaqualify foods with special characters, lowercase and extract results from \"Title\" column\n",
    "foods = food_df[food_df[\"Title\"].str.contains(\"[^a-zA-Z ]\") == False][\"Title\"].apply(lambda food: food.lower())\n",
    "# filter out foods with more than 3 words, drop any duplicates\n",
    "foods = foods.drop_duplicates()\n"
   ]
  },
  {
   "cell_type": "code",
   "execution_count": 8,
   "metadata": {},
   "outputs": [
    {
     "data": {
      "text/plain": [
       "32140"
      ]
     },
     "execution_count": 8,
     "metadata": {},
     "output_type": "execute_result"
    }
   ],
   "source": [
    "# print the remaining size\n",
    "foods.size"
   ]
  },
  {
   "cell_type": "code",
   "execution_count": 7,
   "metadata": {},
   "outputs": [],
   "source": [
    "\n",
    "# find one-worded, two-worded and three-worded foods\n",
    "one_worded_foods = foods[foods.str.split().apply(len) == 1]\n",
    "two_worded_foods = foods[foods.str.split().apply(len) == 2]\n",
    "three_worded_foods = foods[foods.str.split().apply(len) == 3]\n",
    "four_worded_foods = foods[foods.str.split().apply(len) == 4]\n",
    "five_worded_foods = foods[foods.str.split().apply(len) == 5]\n",
    "six_worded_foods = foods[foods.str.split().apply(len) == 6]\n",
    "seven_worded_foods = foods[foods.str.split().apply(len) >= 7]"
   ]
  },
  {
   "cell_type": "code",
   "execution_count": 9,
   "metadata": {},
   "outputs": [
    {
     "data": {
      "text/plain": [
       "<BarContainer object of 7 artists>"
      ]
     },
     "execution_count": 9,
     "metadata": {},
     "output_type": "execute_result"
    },
    {
     "data": {
      "image/png": "[encoded data removed]",
      "text/plain": [
       "<Figure size 1000x600 with 1 Axes>"
      ]
     },
     "metadata": {},
     "output_type": "display_data"
    }
   ],
   "source": [
    "# create a bar plot\n",
    "fig, ax = plt.subplots(figsize=(10, 6))\n",
    "ax.bar([1, 2, 3, 4, 5, 6, 7],\n",
    "       [one_worded_foods.size, two_worded_foods.size, three_worded_foods.size, four_worded_foods.size,\n",
    "        five_worded_foods.size,\n",
    "        six_worded_foods.size,\n",
    "        seven_worded_foods.size])"
   ]
  },
  {
   "cell_type": "code",
   "execution_count": 10,
   "metadata": {},
   "outputs": [
    {
     "data": {
      "text/plain": [
       "[Text(1, 0, 'one'),\n",
       " Text(2, 0, 'two'),\n",
       " Text(3, 0, 'three'),\n",
       " Text(4, 0, 'four'),\n",
       " Text(5, 0, 'five'),\n",
       " Text(6, 0, 'six'),\n",
       " Text(7, 0, 'seven')]"
      ]
     },
     "execution_count": 10,
     "metadata": {},
     "output_type": "execute_result"
    }
   ],
   "source": [
    "# label the x-axis instances\n",
    "ax.set_xticks([1, 2, 3, 4, 5, 6, 7])\n",
    "ax.set_xticklabels([\"one\", \"two\", \"three\", 'four', 'five', 'six', 'seven'])"
   ]
  },
  {
   "cell_type": "code",
   "execution_count": 12,
   "metadata": {},
   "outputs": [
    {
     "data": {
      "image/png": "[encoded data removed]",
      "text/plain": [
       "<Figure size 640x480 with 1 Axes>"
      ]
     },
     "metadata": {},
     "output_type": "display_data"
    }
   ],
   "source": [
    "# set the title and the xy-axis labels\n",
    "plt.title(\"Number of Words in Food Entities\")\n",
    "plt.xlabel(\"Number of Words\")\n",
    "plt.ylabel(\"Food Entities\")\n",
    "plt.show()"
   ]
  },
  {
   "cell_type": "markdown",
   "metadata": {},
   "source": [
    "### 2. Data Splitting\n",
    "splits the food items into training and testing data. It ensures that the number of one-word, two-word, and three-word food items are balanced in both the training and testing datasets."
   ]
  },
  {
   "cell_type": "code",
   "execution_count": 13,
   "metadata": {},
   "outputs": [],
   "source": [
    "# total number of foods\n",
    "total_num_foods = round(one_worded_foods.size / 45 * 100)\n",
    "\n",
    "# shuffle the 2-worded and 3-worded foods since we'll be slicing them\n",
    "two_worded_foods = two_worded_foods.sample(frac=1)\n",
    "three_worded_foods = three_worded_foods.sample(frac=1)\n",
    "four_worded_foods = four_worded_foods.sample(frac=1)\n",
    "five_worded_foods = five_worded_foods.sample(frac=1)\n",
    "six_worded_foods = six_worded_foods.sample(frac=1)\n",
    "seven_worded_foods = seven_worded_foods.sample(frac=1)"
   ]
  },
  {
   "cell_type": "code",
   "execution_count": 14,
   "metadata": {},
   "outputs": [
    {
     "name": "stderr",
     "output_type": "stream",
     "text": [
      "C:\\Users\\shira\\AppData\\Local\\Temp\\ipykernel_16776\\271895241.py:2: FutureWarning: The series.append method is deprecated and will be removed from pandas in a future version. Use pandas.concat instead.\n",
      "  foods = one_worded_foods.append(two_worded_foods[:round(total_num_foods * 0.30)]).append(\n",
      "C:\\Users\\shira\\AppData\\Local\\Temp\\ipykernel_16776\\271895241.py:2: FutureWarning: The series.append method is deprecated and will be removed from pandas in a future version. Use pandas.concat instead.\n",
      "  foods = one_worded_foods.append(two_worded_foods[:round(total_num_foods * 0.30)]).append(\n",
      "C:\\Users\\shira\\AppData\\Local\\Temp\\ipykernel_16776\\271895241.py:3: FutureWarning: The series.append method is deprecated and will be removed from pandas in a future version. Use pandas.concat instead.\n",
      "  three_worded_foods[:round(total_num_foods * 0.25)]).append(\n",
      "C:\\Users\\shira\\AppData\\Local\\Temp\\ipykernel_16776\\271895241.py:4: FutureWarning: The series.append method is deprecated and will be removed from pandas in a future version. Use pandas.concat instead.\n",
      "  four_worded_foods[:round(total_num_foods * 0.25)]).append(five_worded_foods[:round(total_num_foods * 0.25)]).append(\n",
      "C:\\Users\\shira\\AppData\\Local\\Temp\\ipykernel_16776\\271895241.py:4: FutureWarning: The series.append method is deprecated and will be removed from pandas in a future version. Use pandas.concat instead.\n",
      "  four_worded_foods[:round(total_num_foods * 0.25)]).append(five_worded_foods[:round(total_num_foods * 0.25)]).append(\n",
      "C:\\Users\\shira\\AppData\\Local\\Temp\\ipykernel_16776\\271895241.py:5: FutureWarning: The series.append method is deprecated and will be removed from pandas in a future version. Use pandas.concat instead.\n",
      "  six_worded_foods[:round(total_num_foods * 0.25)]).append(seven_worded_foods[:round(total_num_foods * 0.25)])\n"
     ]
    }
   ],
   "source": [
    "# append the foods together\n",
    "foods = one_worded_foods.append(two_worded_foods[:round(total_num_foods * 0.30)]).append(\n",
    "    three_worded_foods[:round(total_num_foods * 0.25)]).append(\n",
    "    four_worded_foods[:round(total_num_foods * 0.25)]).append(five_worded_foods[:round(total_num_foods * 0.25)]).append(\n",
    "    six_worded_foods[:round(total_num_foods * 0.25)]).append(seven_worded_foods[:round(total_num_foods * 0.25)])"
   ]
  },
  {
   "cell_type": "code",
   "execution_count": 16,
   "metadata": {},
   "outputs": [
    {
     "name": "stdout",
     "output_type": "stream",
     "text": [
      "1-worded food entities: 848\n",
      "2-worded food entities: 565\n",
      "3-worded food entities: 471\n"
     ]
    }
   ],
   "source": [
    "# print the resulting sizes\n",
    "for i in range(3):\n",
    "    print(f\"{i + 1}-worded food entities:\", foods[foods.str.split().apply(len) == i + 1].size)\n",
    "food_templates = [\n",
    "    \"I ate my {}\",\n",
    "    \"I'm eating a {}\",\n",
    "    \"I just ate a {}\",\n",
    "    \"I only ate the {}\",\n",
    "    \"I'm done eating a {}\",\n",
    "    \"I've already eaten a {}\",\n",
    "    \"I just finished my {}\",\n",
    "    \"When I was having lunch I ate a {}\",\n",
    "    \"I had a {} and a {} today\",\n",
    "    \"I ate a {} and a {} for lunch\",\n",
    "    \"I made a {} and {} for lunch\",\n",
    "    \"I ate {} and {}\",\n",
    "    \"today I ate a {} and a {} for lunch\",\n",
    "    \"I had {} with my husband last night\",\n",
    "    \"I brought you some {} on my birthday\",\n",
    "    \"I made {} for yesterday's dinner\",\n",
    "    \"last night, a {} was sent to me with {}\",\n",
    "    \"I had {} yesterday and I'd like to eat it anyway\",\n",
    "    \"I ate a couple of {} last night\",\n",
    "    \"I had some {} at dinner last night\",\n",
    "    \"Last night, I ordered some {}\",\n",
    "    \"I made a {} last night\",\n",
    "    \"I had a bowl of {} with {} and I wanted to go to the mall today\",\n",
    "    \"I brought a basket of {} for breakfast this morning\",\n",
    "    \"I had a bowl of {}\",\n",
    "    \"I ate a {} with {} in the morning\",\n",
    "    \"I made a bowl of {} for my breakfast\",\n",
    "    \"There's {} for breakfast in the bowl this morning\",\n",
    "    \"This morning, I made a bowl of {}\",\n",
    "    \"I decided to have some {} as a little bonus\",\n",
    "    \"I decided to enjoy some {}\",\n",
    "    \"I've decided to have some {} for dessert\",\n",
    "    \"I had a {}, a {} and {} at home\",\n",
    "    \"I took a {}, {} and {} on the weekend\",\n",
    "    \"I ate a {} with {} and {} just now\",\n",
    "    \"Last night, I ate an {} with {} and {}\",\n",
    "    \"I tasted some {}, {} and {} at the office\",\n",
    "    \"There's a basket of {}, {} and {} that I consumed\",\n",
    "    \"I devoured a {}, {} and {}\",\n",
    "    \"I've already had a bag of {}, {} and {} from the fridge\"\n",
    "]"
   ]
  },
  {
   "cell_type": "code",
   "execution_count": 18,
   "metadata": {},
   "outputs": [],
   "source": [
    "# create dictionaries to store the generated food combinations. one_food != one_worded_food. one_food == \"barbecue sauce\", one_worded_food == \"sauce\"\n",
    "TRAIN_FOOD_DATA = {\n",
    "    \"one_food\": [],\n",
    "    \"two_foods\": [],\n",
    "    \"three_foods\": []\n",
    "}\n",
    "\n",
    "TEST_FOOD_DATA = {\n",
    "    \"one_food\": [],\n",
    "    \"two_foods\": [],\n",
    "    \"three_foods\": []\n",
    "}"
   ]
  },
  {
   "cell_type": "code",
   "execution_count": 20,
   "metadata": {},
   "outputs": [],
   "source": [
    "# one_food, two_food, and three_food combinations will be limited to 167 sentences\n",
    "FOOD_SENTENCE_LIMIT = 167\n",
    "# helper function for deciding what dictionary and subsequent array to append the food sentence on to\n",
    "def get_food_data(count):\n",
    "    return {\n",
    "        1: TRAIN_FOOD_DATA[\"one_food\"] if len(TRAIN_FOOD_DATA[\"one_food\"]) < FOOD_SENTENCE_LIMIT else TEST_FOOD_DATA[\n",
    "            \"one_food\"],\n",
    "        2: TRAIN_FOOD_DATA[\"two_foods\"] if len(TRAIN_FOOD_DATA[\"two_foods\"]) < FOOD_SENTENCE_LIMIT else TEST_FOOD_DATA[\n",
    "            \"two_foods\"],\n",
    "        3: TRAIN_FOOD_DATA[\"three_foods\"] if len(TRAIN_FOOD_DATA[\"three_foods\"]) < FOOD_SENTENCE_LIMIT else\n",
    "        TEST_FOOD_DATA[\"three_foods\"],\n",
    "    }[count]\n",
    "\n"
   ]
  },
  {
   "cell_type": "code",
   "execution_count": 21,
   "metadata": {},
   "outputs": [],
   "source": [
    "# the pattern to replace from the template sentences\n",
    "pattern_to_replace = \"{}\"\n",
    "\n",
    "# shuffle the data before starting\n",
    "foods = foods.sample(frac=1)\n",
    "\n",
    "# the count that helps us decide when to break from the for loop\n",
    "food_entity_count = foods.size - 1\n"
   ]
  },
  {
   "cell_type": "markdown",
   "metadata": {},
   "source": [
    "### 3. Sentence Generation\n",
    "generates sentences using predefined templates and the food items from the training data. These sentences are used to train the NER model."
   ]
  },
  {
   "cell_type": "code",
   "execution_count": 22,
   "metadata": {},
   "outputs": [],
   "source": [
    "\n",
    "# start the while loop, ensure we don't get an index out of bounds error\n",
    "while food_entity_count >= 2:\n",
    "    entities = []\n",
    "\n",
    "    # pick a random food template\n",
    "    sentence = food_templates[random.randint(0, len(food_templates) - 1)]\n",
    "\n",
    "    # find out how many braces \"{}\" need to be replaced in the template\n",
    "    matches = re.findall(pattern_to_replace, sentence)\n",
    "\n",
    "    # for each brace, replace with a food entity from the shuffled food data\n",
    "    for match in matches:\n",
    "        food = foods.iloc[food_entity_count]\n",
    "        food_entity_count -= 1\n",
    "\n",
    "        # replace the pattern, but then find the match of the food entity we just inserted\n",
    "        sentence = sentence.replace(match, food, 1)\n",
    "        match_span = re.search(food, sentence).span()\n",
    "\n",
    "        # use that match to find the index positions of the food entity in the sentence, append\n",
    "        entities.append((match_span[0], match_span[1], \"FOOD\"))\n",
    "\n",
    "    # append the sentence and the position of the entities to the correct dictionary and array\n",
    "    get_food_data(len(matches)).append((sentence, {\"entities\": entities}))"
   ]
  },
  {
   "cell_type": "markdown",
   "metadata": {},
   "source": [
    "### 4. Model Training\n",
    "The script uses the SpaCy library to train the NER model. It adds a new label \"FOOD\" to the NER model and trains the model using the generated sentences"
   ]
  },
  {
   "cell_type": "code",
   "execution_count": 24,
   "metadata": {},
   "outputs": [
    {
     "name": "stdout",
     "output_type": "stream",
     "text": [
      "\u001b[38;5;2m✔ Download and installation successful\u001b[0m\n",
      "You can now load the package via spacy.load('en_core_web_lg')\n"
     ]
    }
   ],
   "source": [
    "import spacy.cli\n",
    "spacy.cli.download(\"en_core_web_lg\")"
   ]
  },
  {
   "cell_type": "code",
   "execution_count": 32,
   "metadata": {},
   "outputs": [
    {
     "name": "stdout",
     "output_type": "stream",
     "text": [
      "1214 one_food items: ('Last night, I ordered some strawberry avocado salad', {'entities': [(27, 51, 'FOOD')]})\n",
      "303 two_foods items: ('I ate king burger and swallow nests', {'entities': [(6, 17, 'FOOD'), (22, 35, 'FOOD')]})\n",
      "315 three_foods items: (\"There's a basket of mandelbread, tan and light tuscan garlic chicken that I consumed\", {'entities': [(20, 31, 'FOOD'), (33, 36, 'FOOD'), (41, 68, 'FOOD')]})\n"
     ]
    },
    {
     "data": {
      "text/html": [
       "<div>\n",
       "<style scoped>\n",
       "    .dataframe tbody tr th:only-of-type {\n",
       "        vertical-align: middle;\n",
       "    }\n",
       "\n",
       "    .dataframe tbody tr th {\n",
       "        vertical-align: top;\n",
       "    }\n",
       "\n",
       "    .dataframe thead th {\n",
       "        text-align: right;\n",
       "    }\n",
       "</style>\n",
       "<table border=\"1\" class=\"dataframe\">\n",
       "  <thead>\n",
       "    <tr style=\"text-align: right;\">\n",
       "      <th></th>\n",
       "      <th>caption</th>\n",
       "      <th>childPosts/0/alt</th>\n",
       "      <th>childPosts/0/caption</th>\n",
       "      <th>childPosts/0/commentsCount</th>\n",
       "      <th>childPosts/0/dimensionsHeight</th>\n",
       "      <th>childPosts/0/dimensionsWidth</th>\n",
       "      <th>childPosts/0/displayUrl</th>\n",
       "      <th>childPosts/0/firstComment</th>\n",
       "      <th>childPosts/0/id</th>\n",
       "      <th>childPosts/0/likesCount</th>\n",
       "      <th>...</th>\n",
       "      <th>taggedUsers/1/is_verified</th>\n",
       "      <th>taggedUsers/1/profile_pic_url</th>\n",
       "      <th>taggedUsers/1/username</th>\n",
       "      <th>timestamp</th>\n",
       "      <th>type</th>\n",
       "      <th>url</th>\n",
       "      <th>videoDuration</th>\n",
       "      <th>videoPlayCount</th>\n",
       "      <th>videoUrl</th>\n",
       "      <th>videoViewCount</th>\n",
       "    </tr>\n",
       "  </thead>\n",
       "  <tbody>\n",
       "    <tr>\n",
       "      <th>0</th>\n",
       "      <td>Never throw away half a can of tomato paste or...</td>\n",
       "      <td>NaN</td>\n",
       "      <td>NaN</td>\n",
       "      <td>NaN</td>\n",
       "      <td>NaN</td>\n",
       "      <td>NaN</td>\n",
       "      <td>NaN</td>\n",
       "      <td>NaN</td>\n",
       "      <td>NaN</td>\n",
       "      <td>NaN</td>\n",
       "      <td>...</td>\n",
       "      <td>NaN</td>\n",
       "      <td>NaN</td>\n",
       "      <td>NaN</td>\n",
       "      <td>2023-04-24T15:11:42.000Z</td>\n",
       "      <td>Video</td>\n",
       "      <td>https://www.instagram.com/p/CrbGVw3gnpv/</td>\n",
       "      <td>21.084</td>\n",
       "      <td>46359.0</td>\n",
       "      <td>https://instagram.fltn3-2.fna.fbcdn.net/v/t66....</td>\n",
       "      <td>13786.0</td>\n",
       "    </tr>\n",
       "    <tr>\n",
       "      <th>1</th>\n",
       "      <td>@oliviamackmccool started making this breakfas...</td>\n",
       "      <td>NaN</td>\n",
       "      <td>NaN</td>\n",
       "      <td>NaN</td>\n",
       "      <td>NaN</td>\n",
       "      <td>NaN</td>\n",
       "      <td>NaN</td>\n",
       "      <td>NaN</td>\n",
       "      <td>NaN</td>\n",
       "      <td>NaN</td>\n",
       "      <td>...</td>\n",
       "      <td>NaN</td>\n",
       "      <td>NaN</td>\n",
       "      <td>NaN</td>\n",
       "      <td>2023-01-01T19:10:48.000Z</td>\n",
       "      <td>Video</td>\n",
       "      <td>https://www.instagram.com/p/Cm4jzpfI60S/</td>\n",
       "      <td>21.666</td>\n",
       "      <td>2793628.0</td>\n",
       "      <td>https://instagram.fanf3-1.fna.fbcdn.net/o1/v/t...</td>\n",
       "      <td>1975762.0</td>\n",
       "    </tr>\n",
       "    <tr>\n",
       "      <th>2</th>\n",
       "      <td>It's â Coffee Week â over here at Food52, ...</td>\n",
       "      <td>NaN</td>\n",
       "      <td>NaN</td>\n",
       "      <td>NaN</td>\n",
       "      <td>NaN</td>\n",
       "      <td>NaN</td>\n",
       "      <td>NaN</td>\n",
       "      <td>NaN</td>\n",
       "      <td>NaN</td>\n",
       "      <td>NaN</td>\n",
       "      <td>...</td>\n",
       "      <td>NaN</td>\n",
       "      <td>NaN</td>\n",
       "      <td>NaN</td>\n",
       "      <td>2023-04-24T18:01:12.000Z</td>\n",
       "      <td>Image</td>\n",
       "      <td>https://www.instagram.com/p/CrbZ4_ip1zF/</td>\n",
       "      <td>NaN</td>\n",
       "      <td>NaN</td>\n",
       "      <td>NaN</td>\n",
       "      <td>NaN</td>\n",
       "    </tr>\n",
       "    <tr>\n",
       "      <th>3</th>\n",
       "      <td>These Hoisin Mushroom Gua Baos from @thefoodie...</td>\n",
       "      <td>NaN</td>\n",
       "      <td>NaN</td>\n",
       "      <td>0.0</td>\n",
       "      <td>1350.0</td>\n",
       "      <td>1080.0</td>\n",
       "      <td>https://instagram.ftpa1-1.fna.fbcdn.net/v/t51....</td>\n",
       "      <td>NaN</td>\n",
       "      <td>3.090000e+18</td>\n",
       "      <td>NaN</td>\n",
       "      <td>...</td>\n",
       "      <td>NaN</td>\n",
       "      <td>NaN</td>\n",
       "      <td>NaN</td>\n",
       "      <td>2023-04-24T02:00:25.000Z</td>\n",
       "      <td>Sidecar</td>\n",
       "      <td>https://www.instagram.com/p/CrZr73gIgQ0/</td>\n",
       "      <td>NaN</td>\n",
       "      <td>NaN</td>\n",
       "      <td>NaN</td>\n",
       "      <td>NaN</td>\n",
       "    </tr>\n",
       "    <tr>\n",
       "      <th>4</th>\n",
       "      <td>For your next beach day, barbecue, or afternoo...</td>\n",
       "      <td>NaN</td>\n",
       "      <td>NaN</td>\n",
       "      <td>NaN</td>\n",
       "      <td>NaN</td>\n",
       "      <td>NaN</td>\n",
       "      <td>NaN</td>\n",
       "      <td>NaN</td>\n",
       "      <td>NaN</td>\n",
       "      <td>NaN</td>\n",
       "      <td>...</td>\n",
       "      <td>NaN</td>\n",
       "      <td>NaN</td>\n",
       "      <td>NaN</td>\n",
       "      <td>2023-04-24T13:00:50.000Z</td>\n",
       "      <td>Image</td>\n",
       "      <td>https://www.instagram.com/p/Cra3hA9Oc_k/</td>\n",
       "      <td>NaN</td>\n",
       "      <td>NaN</td>\n",
       "      <td>NaN</td>\n",
       "      <td>NaN</td>\n",
       "    </tr>\n",
       "  </tbody>\n",
       "</table>\n",
       "<p>5 rows × 153 columns</p>\n",
       "</div>"
      ],
      "text/plain": [
       "                                             caption  childPosts/0/alt  \\\n",
       "0  Never throw away half a can of tomato paste or...               NaN   \n",
       "1  @oliviamackmccool started making this breakfas...               NaN   \n",
       "2  It's â Coffee Week â over here at Food52, ...               NaN   \n",
       "3  These Hoisin Mushroom Gua Baos from @thefoodie...               NaN   \n",
       "4  For your next beach day, barbecue, or afternoo...               NaN   \n",
       "\n",
       "   childPosts/0/caption  childPosts/0/commentsCount  \\\n",
       "0                   NaN                         NaN   \n",
       "1                   NaN                         NaN   \n",
       "2                   NaN                         NaN   \n",
       "3                   NaN                         0.0   \n",
       "4                   NaN                         NaN   \n",
       "\n",
       "   childPosts/0/dimensionsHeight  childPosts/0/dimensionsWidth  \\\n",
       "0                            NaN                           NaN   \n",
       "1                            NaN                           NaN   \n",
       "2                            NaN                           NaN   \n",
       "3                         1350.0                        1080.0   \n",
       "4                            NaN                           NaN   \n",
       "\n",
       "                             childPosts/0/displayUrl  \\\n",
       "0                                                NaN   \n",
       "1                                                NaN   \n",
       "2                                                NaN   \n",
       "3  https://instagram.ftpa1-1.fna.fbcdn.net/v/t51....   \n",
       "4                                                NaN   \n",
       "\n",
       "   childPosts/0/firstComment  childPosts/0/id  childPosts/0/likesCount  ...  \\\n",
       "0                        NaN              NaN                      NaN  ...   \n",
       "1                        NaN              NaN                      NaN  ...   \n",
       "2                        NaN              NaN                      NaN  ...   \n",
       "3                        NaN     3.090000e+18                      NaN  ...   \n",
       "4                        NaN              NaN                      NaN  ...   \n",
       "\n",
       "   taggedUsers/1/is_verified taggedUsers/1/profile_pic_url  \\\n",
       "0                        NaN                           NaN   \n",
       "1                        NaN                           NaN   \n",
       "2                        NaN                           NaN   \n",
       "3                        NaN                           NaN   \n",
       "4                        NaN                           NaN   \n",
       "\n",
       "  taggedUsers/1/username                 timestamp     type  \\\n",
       "0                    NaN  2023-04-24T15:11:42.000Z    Video   \n",
       "1                    NaN  2023-01-01T19:10:48.000Z    Video   \n",
       "2                    NaN  2023-04-24T18:01:12.000Z    Image   \n",
       "3                    NaN  2023-04-24T02:00:25.000Z  Sidecar   \n",
       "4                    NaN  2023-04-24T13:00:50.000Z    Image   \n",
       "\n",
       "                                        url videoDuration  videoPlayCount  \\\n",
       "0  https://www.instagram.com/p/CrbGVw3gnpv/        21.084         46359.0   \n",
       "1  https://www.instagram.com/p/Cm4jzpfI60S/        21.666       2793628.0   \n",
       "2  https://www.instagram.com/p/CrbZ4_ip1zF/           NaN             NaN   \n",
       "3  https://www.instagram.com/p/CrZr73gIgQ0/           NaN             NaN   \n",
       "4  https://www.instagram.com/p/Cra3hA9Oc_k/           NaN             NaN   \n",
       "\n",
       "                                            videoUrl videoViewCount  \n",
       "0  https://instagram.fltn3-2.fna.fbcdn.net/v/t66....        13786.0  \n",
       "1  https://instagram.fanf3-1.fna.fbcdn.net/o1/v/t...      1975762.0  \n",
       "2                                                NaN            NaN  \n",
       "3                                                NaN            NaN  \n",
       "4                                                NaN            NaN  \n",
       "\n",
       "[5 rows x 153 columns]"
      ]
     },
     "execution_count": 32,
     "metadata": {},
     "output_type": "execute_result"
    }
   ],
   "source": [
    "for key in TEST_FOOD_DATA:\n",
    "    print(\"{} {} items: {}\".format(len(TEST_FOOD_DATA[key]), key, TEST_FOOD_DATA[key][0]))\n",
    "# read in the revision data \n",
    "npr_df = pd.read_csv(\"database/dataset_instagram-post.csv\", encoding='latin-1')\n",
    "\n",
    "npr_df.head()"
   ]
  },
  {
   "cell_type": "code",
   "execution_count": 25,
   "metadata": {},
   "outputs": [],
   "source": [
    "nlp = spacy.load(\"en_core_web_lg\")"
   ]
  },
  {
   "cell_type": "code",
   "execution_count": 28,
   "metadata": {},
   "outputs": [],
   "source": [
    "revision_texts = []"
   ]
  },
  {
   "cell_type": "code",
   "execution_count": 33,
   "metadata": {},
   "outputs": [
    {
     "name": "stderr",
     "output_type": "stream",
     "text": [
      "C:\\Users\\shira\\AppData\\Local\\Packages\\PythonSoftwareFoundation.Python.3.10_qbz5n2kfra8p0\\LocalCache\\local-packages\\Python310\\site-packages\\spacy\\pipeline\\lemmatizer.py:211: UserWarning: [W108] The rule-based lemmatizer did not find POS annotation for one or more tokens. Check that your pipeline includes components that assign token.pos, typically 'tagger'+'attribute_ruler' or 'morphologizer'.\n",
      "  warnings.warn(Warnings.W108)\n"
     ]
    },
    {
     "name": "stdout",
     "output_type": "stream",
     "text": [
      "\", \"Fold in remaining 2 cups of blueberries.\n",
      "{'entities': [(4, 8, 'WORK_OF_ART'), (22, 23, 'CARDINAL')]}\n"
     ]
    }
   ],
   "source": [
    "# convert the articles to spacy objects to better identify the sentences. Disabled unneeded components.\n",
    "for doc in nlp.pipe(npr_df[\"caption\"], batch_size=30, disable=[\"tagger\", \"ner\"]):\n",
    "    for sentence in doc.sents:\n",
    "        if 40 < len(sentence.text) < 80:\n",
    "            # some of the sentences had excessive whitespace in between words, so we're trimming that\n",
    "            revision_texts.append(\" \".join(re.split(\"\\s+\", sentence.text, flags=re.UNICODE)))\n",
    "revisions = []\n",
    "# Use the existing spaCy model to predict the entities, then append them to revision\n",
    "for doc in nlp.pipe(revision_texts, batch_size=50, disable=[\"tagger\", \"parser\"]):\n",
    "\n",
    "    # don't append sentences that have no entities\n",
    "    if len(doc.ents) > 0:\n",
    "        revisions.append((doc.text, {\"entities\": [(e.start_char, e.end_char, e.label_) for e in doc.ents]}))\n",
    "# print an example of the revision sentence\n",
    "print(revisions[0][0])\n",
    "\n",
    "# print an example of the revision data\n",
    "print(revisions[0][1])\n"
   ]
  },
  {
   "cell_type": "code",
   "execution_count": 34,
   "metadata": {},
   "outputs": [],
   "source": [
    "# create arrays to store the revision data\n",
    "TRAIN_REVISION_DATA = []\n",
    "TEST_REVISION_DATA = []\n",
    "\n",
    "# create dictionaries to keep count of the different entities\n",
    "TRAIN_ENTITY_COUNTER = {}\n",
    "TEST_ENTITY_COUNTER = {}\n",
    "\n",
    "# This will help distribute the entities (i.e. we don't want 1000 PERSON entities, but only 80 ORG entities)\n",
    "REVISION_SENTENCE_SOFT_LIMIT = 100"
   ]
  },
  {
   "cell_type": "code",
   "execution_count": 35,
   "metadata": {},
   "outputs": [],
   "source": [
    "# helper function for incrementing the revision counters\n",
    "def increment_revision_counters(entity_counter, entities):\n",
    "    for entity in entities:\n",
    "        label = entity[2]\n",
    "        if label in entity_counter:\n",
    "            entity_counter[label] += 1\n",
    "        else:\n",
    "            entity_counter[label] = 1\n",
    "\n",
    "\n",
    "random.shuffle(revisions)"
   ]
  },
  {
   "cell_type": "code",
   "execution_count": 36,
   "metadata": {},
   "outputs": [],
   "source": [
    "for revision in revisions:\n",
    "    # get the entities from the revision sentence\n",
    "    entities = revision[1][\"entities\"]\n",
    "\n",
    "    # simple hack to make sure spaCy entities don't get too one-sided\n",
    "    should_append_to_train_counter = 0\n",
    "    for _, _, label in entities:\n",
    "        if label in TRAIN_ENTITY_COUNTER and TRAIN_ENTITY_COUNTER[label] > REVISION_SENTENCE_SOFT_LIMIT:\n",
    "            should_append_to_train_counter -= 1\n",
    "        else:\n",
    "            should_append_to_train_counter += 1\n",
    "\n",
    "    # simple switch for deciding whether to append to train data or test data\n",
    "    if should_append_to_train_counter >= 0:\n",
    "        TRAIN_REVISION_DATA.append(revision)\n",
    "        increment_revision_counters(TRAIN_ENTITY_COUNTER, entities)\n",
    "    else:\n",
    "        TEST_REVISION_DATA.append(revision)\n",
    "        increment_revision_counters(TEST_ENTITY_COUNTER, entities)\n",
    "# combine the food training data\n",
    "TRAIN_FOOD_DATA_COMBINED = TRAIN_FOOD_DATA[\"one_food\"] + TRAIN_FOOD_DATA[\"two_foods\"] + TRAIN_FOOD_DATA[\"three_foods\"]"
   ]
  },
  {
   "cell_type": "code",
   "execution_count": 37,
   "metadata": {},
   "outputs": [
    {
     "name": "stdout",
     "output_type": "stream",
     "text": [
      "FOOD 501\n"
     ]
    }
   ],
   "source": [
    "# print the length of the food training data\n",
    "print(\"FOOD\", len(TRAIN_FOOD_DATA_COMBINED))"
   ]
  },
  {
   "cell_type": "code",
   "execution_count": 38,
   "metadata": {},
   "outputs": [
    {
     "name": "stdout",
     "output_type": "stream",
     "text": [
      "REVISION 1615\n"
     ]
    }
   ],
   "source": [
    "# print the length of the revision training data\n",
    "print(\"REVISION\", len(TRAIN_REVISION_DATA))"
   ]
  },
  {
   "cell_type": "code",
   "execution_count": 39,
   "metadata": {},
   "outputs": [
    {
     "name": "stdout",
     "output_type": "stream",
     "text": [
      "COMBINED 2116\n"
     ]
    },
    {
     "data": {
      "text/plain": [
       "1"
      ]
     },
     "execution_count": 39,
     "metadata": {},
     "output_type": "execute_result"
    }
   ],
   "source": [
    "# join and print the combined length\n",
    "TRAIN_DATA = TRAIN_REVISION_DATA + TRAIN_FOOD_DATA_COMBINED\n",
    "print(\"COMBINED\", len(TRAIN_DATA))\n",
    "# add NER to the pipeline and the new label\n",
    "ner = nlp.get_pipe(\"ner\")\n",
    "ner.add_label(\"FOOD\")"
   ]
  },
  {
   "cell_type": "code",
   "execution_count": 40,
   "metadata": {},
   "outputs": [],
   "source": [
    "# get the names of the components we want to disable during training\n",
    "pipe_exceptions = [\"ner\", \"trf_wordpiecer\", \"trf_tok2vec\"]\n",
    "other_pipes = [pipe for pipe in nlp.pipe_names if pipe not in pipe_exceptions]"
   ]
  },
  {
   "cell_type": "code",
   "execution_count": 41,
   "metadata": {},
   "outputs": [
    {
     "name": "stdout",
     "output_type": "stream",
     "text": [
      "Losses (1/30) {'ner': 3679.7745317131876}\n",
      "Losses (2/30) {'ner': 2757.1202854877565}\n",
      "Losses (3/30) {'ner': 2275.717699868621}\n",
      "Losses (4/30) {'ner': 2115.7466520974804}\n",
      "Losses (5/30) {'ner': 1897.3696231015103}\n",
      "Losses (6/30) {'ner': 1791.8102572492628}\n",
      "Losses (7/30) {'ner': 1613.3587011205445}\n",
      "Losses (8/30) {'ner': 1612.241379611464}\n",
      "Losses (9/30) {'ner': 1362.2464820147352}\n",
      "Losses (10/30) {'ner': 1340.5613810941215}\n",
      "Losses (11/30) {'ner': 1281.6345872898091}\n",
      "Losses (12/30) {'ner': 1330.4415245276643}\n",
      "Losses (13/30) {'ner': 1199.551791175148}\n",
      "Losses (14/30) {'ner': 1177.244048007223}\n",
      "Losses (15/30) {'ner': 1098.9472105510633}\n",
      "Losses (16/30) {'ner': 1093.903232491754}\n",
      "Losses (17/30) {'ner': 1066.8039222110044}\n",
      "Losses (18/30) {'ner': 1037.18185221969}\n",
      "Losses (19/30) {'ner': 880.4147046805683}\n",
      "Losses (20/30) {'ner': 1001.9101958214583}\n",
      "Losses (21/30) {'ner': 940.117143145171}\n",
      "Losses (22/30) {'ner': 880.0274930009408}\n",
      "Losses (23/30) {'ner': 882.2247136389259}\n",
      "Losses (24/30) {'ner': 874.856641631517}\n",
      "Losses (25/30) {'ner': 857.0496677982871}\n",
      "Losses (26/30) {'ner': 807.8590176581803}\n",
      "Losses (27/30) {'ner': 797.7780402630752}\n",
      "Losses (28/30) {'ner': 787.2523212627128}\n",
      "Losses (29/30) {'ner': 851.5672166269692}\n",
      "Losses (30/30) {'ner': 752.3517380004362}\n"
     ]
    },
    {
     "data": {
      "text/html": [
       "<span class=\"tex2jax_ignore\"><div class=\"entities\" style=\"line-height: 2.5; direction: ltr\">Apple is looking at buying \n",
       "<mark class=\"entity\" style=\"background: #feca74; padding: 0.45em 0.6em; margin: 0 0.25em; line-height: 1; border-radius: 0.35em;\">\n",
       "    U.K.\n",
       "    <span style=\"font-size: 0.8em; font-weight: bold; line-height: 1; border-radius: 0.35em; vertical-align: middle; margin-left: 0.5rem\">GPE</span>\n",
       "</mark>\n",
       " startup for \n",
       "<mark class=\"entity\" style=\"background: #9cc9cc; padding: 0.45em 0.6em; margin: 0 0.25em; line-height: 1; border-radius: 0.35em;\">\n",
       "    $1 billion\n",
       "    <span style=\"font-size: 0.8em; font-weight: bold; line-height: 1; border-radius: 0.35em; vertical-align: middle; margin-left: 0.5rem\">FAC</span>\n",
       "</mark>\n",
       "</div></span>"
      ],
      "text/plain": [
       "<IPython.core.display.HTML object>"
      ]
     },
     "metadata": {},
     "output_type": "display_data"
    },
    {
     "data": {
      "text/html": [
       "<span class=\"tex2jax_ignore\"><div class=\"entities\" style=\"line-height: 2.5; direction: ltr\">I had a \n",
       "<mark class=\"entity\" style=\"background: #ddd; padding: 0.45em 0.6em; margin: 0 0.25em; line-height: 1; border-radius: 0.35em;\">\n",
       "    hamburger and chips\n",
       "    <span style=\"font-size: 0.8em; font-weight: bold; line-height: 1; border-radius: 0.35em; vertical-align: middle; margin-left: 0.5rem\">FOOD</span>\n",
       "</mark>\n",
       " for lunch today.</div></span>"
      ],
      "text/plain": [
       "<IPython.core.display.HTML object>"
      ]
     },
     "metadata": {},
     "output_type": "display_data"
    },
    {
     "name": "stderr",
     "output_type": "stream",
     "text": [
      "C:\\Users\\shira\\AppData\\Local\\Packages\\PythonSoftwareFoundation.Python.3.10_qbz5n2kfra8p0\\LocalCache\\local-packages\\Python310\\site-packages\\spacy\\displacy\\__init__.py:213: UserWarning: [W006] No entities to visualize found in Doc object. If this is surprising to you, make sure the Doc was processed using a model that supports named entity recognition, and check the `doc.ents` property manually if necessary.\n",
      "  warnings.warn(Warnings.W006)\n"
     ]
    },
    {
     "data": {
      "text/html": [
       "<span class=\"tex2jax_ignore\"><div class=\"entities\" style=\"line-height: 2.5; direction: ltr\">I decided to have chocolate ice cream as a little treat for myself.</div></span>"
      ],
      "text/plain": [
       "<IPython.core.display.HTML object>"
      ]
     },
     "metadata": {},
     "output_type": "display_data"
    },
    {
     "data": {
      "text/html": [
       "<span class=\"tex2jax_ignore\"><div class=\"entities\" style=\"line-height: 2.5; direction: ltr\">I ordered \n",
       "<mark class=\"entity\" style=\"background: #ddd; padding: 0.45em 0.6em; margin: 0 0.25em; line-height: 1; border-radius: 0.35em;\">\n",
       "    basmati rice\n",
       "    <span style=\"font-size: 0.8em; font-weight: bold; line-height: 1; border-radius: 0.35em; vertical-align: middle; margin-left: 0.5rem\">FOOD</span>\n",
       "</mark>\n",
       ", \n",
       "<mark class=\"entity\" style=\"background: #ddd; padding: 0.45em 0.6em; margin: 0 0.25em; line-height: 1; border-radius: 0.35em;\">\n",
       "    leaf spinach and cheese\n",
       "    <span style=\"font-size: 0.8em; font-weight: bold; line-height: 1; border-radius: 0.35em; vertical-align: middle; margin-left: 0.5rem\">FOOD</span>\n",
       "</mark>\n",
       " from \n",
       "<mark class=\"entity\" style=\"background: #7aecec; padding: 0.45em 0.6em; margin: 0 0.25em; line-height: 1; border-radius: 0.35em;\">\n",
       "    Tesco\n",
       "    <span style=\"font-size: 0.8em; font-weight: bold; line-height: 1; border-radius: 0.35em; vertical-align: middle; margin-left: 0.5rem\">ORG</span>\n",
       "</mark>\n",
       " yesterday</div></span>"
      ],
      "text/plain": [
       "<IPython.core.display.HTML object>"
      ]
     },
     "metadata": {},
     "output_type": "display_data"
    }
   ],
   "source": [
    "# start the training loop, only training NER\n",
    "epochs = 30\n",
    "optimizer = nlp.resume_training()\n",
    "with nlp.disable_pipes(*other_pipes), warnings.catch_warnings():\n",
    "    warnings.filterwarnings(\"once\", category=UserWarning, module='spacy')\n",
    "    sizes = compounding(1.0, 4.0, 1.001)\n",
    "    # Batch up the examples using spaCy's minibatch\n",
    "    for epoch in range(epochs):\n",
    "        examples = []\n",
    "        random.shuffle(TRAIN_DATA)\n",
    "        batches = minibatch(TRAIN_DATA, size=sizes)\n",
    "        losses = {}\n",
    "        for batch in batches:\n",
    "            for text, annotations in batch:\n",
    "                doc = nlp.make_doc(text)\n",
    "                tags = offsets_to_biluo_tags(doc, annotations['entities'])\n",
    "                if '-' in tags:\n",
    "                    continue\n",
    "                annotations['tags'] = tags\n",
    "                example = Example.from_dict(doc, annotations)\n",
    "                examples.append(example)\n",
    "            nlp.update(examples, sgd=optimizer, drop=0.35, losses=losses)\n",
    "            examples = []\n",
    "        print(\"Losses ({}/{})\".format(epoch + 1, epochs), losses)\n",
    "spacy.displacy.render(nlp(\"Apple is looking at buying U.K. startup for $1 billion\"), style=\"ent\")\n",
    "# display sentences involving target entity\n",
    "spacy.displacy.render(nlp(\"I had a hamburger and chips for lunch today.\"), style=\"ent\")\n",
    "spacy.displacy.render(nlp(\"I decided to have chocolate ice cream as a little treat for myself.\"), style=\"ent\")\n",
    "spacy.displacy.render(nlp(\"I ordered basmati rice, leaf spinach and cheese from Tesco yesterday\"), style=\"ent\")"
   ]
  },
  {
   "cell_type": "code",
   "execution_count": 42,
   "metadata": {},
   "outputs": [],
   "source": [
    "# dictionary to hold our evaluation data\n",
    "food_evaluation = {\n",
    "    \"one_food\": {\n",
    "        \"correct\": 0,\n",
    "        \"total\": 0,\n",
    "    },\n",
    "    \"two_foods\": {\n",
    "        \"correct\": 0,\n",
    "        \"total\": 0\n",
    "    },\n",
    "    \"three_foods\": {\n",
    "        \"correct\": 0,\n",
    "        \"total\": 0\n",
    "    }\n",
    "}\n",
    "\n",
    "word_evaluation = {\n",
    "    \"1_worded_foods\": {\n",
    "        \"correct\": 0,\n",
    "        \"total\": 0\n",
    "    },\n",
    "    \"2_worded_foods\": {\n",
    "        \"correct\": 0,\n",
    "        \"total\": 0\n",
    "    },\n",
    "    \"3_worded_foods\": {\n",
    "        \"correct\": 0,\n",
    "        \"total\": 0\n",
    "    },\n",
    "    \"4_worded_foods\": {\n",
    "        \"correct\": 0,\n",
    "        \"total\": 0\n",
    "    },\n",
    "    \"5_worded_foods\": {\n",
    "        \"correct\": 0,\n",
    "        \"total\": 0\n",
    "    },\n",
    "    \"6_worded_foods\": {\n",
    "        \"correct\": 0,\n",
    "        \"total\": 0\n",
    "    }, \"7_worded_foods\": {\n",
    "        \"correct\": 0,\n",
    "        \"total\": 0\n",
    "    }\n",
    "}"
   ]
  },
  {
   "cell_type": "code",
   "execution_count": 43,
   "metadata": {},
   "outputs": [
    {
     "name": "stdout",
     "output_type": "stream",
     "text": [
      "1_worded_foods: 86.76%\n",
      "2_worded_foods: 85.55%\n",
      "3_worded_foods: 82.90%\n",
      "4_worded_foods: 81.16%\n",
      "5_worded_foods: 73.47%\n",
      "6_worded_foods: 65.98%\n",
      "7_worded_foods: 50.98%\n",
      "---\n",
      "one_food: 88.14%\n",
      "two_foods: 70.30%\n",
      "three_foods: 65.71%\n",
      "\n",
      "Total: 76.56%\n"
     ]
    }
   ],
   "source": [
    "# loop over data from our test food set (3 keys in total)\n",
    "for key in TEST_FOOD_DATA:\n",
    "    foods = TEST_FOOD_DATA[key]\n",
    "\n",
    "    for food in foods:\n",
    "        # extract the sentence and correct food entities according to our test data\n",
    "        sentence = food[0]\n",
    "        entities = food[1][\"entities\"]\n",
    "\n",
    "        # for each entity, use our updated model to make a prediction on the sentence\n",
    "        for entity in entities:\n",
    "            doc = nlp(sentence)\n",
    "            correct_text = sentence[entity[0]:entity[1]]\n",
    "            n_worded_food = len(correct_text.split())\n",
    "            if n_worded_food > 7:\n",
    "                n_worded_food = 7\n",
    "            # if we find that there's a match for predicted entity and predicted text, increment correct counters\n",
    "            for ent in doc.ents:\n",
    "                if ent.label_ == entity[2] and ent.text == correct_text:\n",
    "                    food_evaluation[key][\"correct\"] += 1\n",
    "                    if n_worded_food > 0:\n",
    "\n",
    "                        if not word_evaluation.get(f\"{n_worded_food}_worded_foods\"):\n",
    "                            word_evaluation[f\"{n_worded_food}_worded_foods\"] = {\"correct\": 0, \"total\": 0}\n",
    "\n",
    "                        word_evaluation[f\"{n_worded_food}_worded_foods\"][\"correct\"] += 1\n",
    "\n",
    "                    # this break is important, ensures that we're not double counting on a correct match\n",
    "                    break\n",
    "\n",
    "            #  increment total counters after each entity loop\n",
    "            food_evaluation[key][\"total\"] += 1\n",
    "            if n_worded_food > 0:\n",
    "                word_evaluation[f\"{n_worded_food}_worded_foods\"][\"total\"] += 1\n",
    "for key in word_evaluation:\n",
    "    correct = word_evaluation[key][\"correct\"]\n",
    "    total = word_evaluation[key][\"total\"]\n",
    "    print(f\"{key}: {correct / (total or 0.1) * 100:.2f}%\")\n",
    "\n",
    "food_total_sum = 0\n",
    "food_correct_sum = 0\n",
    "\n",
    "print(\"---\")\n",
    "for key in food_evaluation:\n",
    "    correct = food_evaluation[key][\"correct\"]\n",
    "    total = food_evaluation[key][\"total\"]\n",
    "\n",
    "    food_total_sum += total\n",
    "    food_correct_sum += correct\n",
    "\n",
    "    print(f\"{key}: {correct / total * 100:.2f}%\")\n",
    "print(f\"\\nTotal: {food_correct_sum / food_total_sum * 100:.2f}%\")\n",
    "\n",
    "# dictionary which will be populated with the entities and result information\n",
    "entity_evaluation = {}"
   ]
  },
  {
   "cell_type": "code",
   "execution_count": 44,
   "metadata": {},
   "outputs": [],
   "source": [
    "# helper function to udpate the entity_evaluation dictionary\n",
    "def update_results(entity, metric):\n",
    "    if entity not in entity_evaluation:\n",
    "        entity_evaluation[entity] = {\"correct\": 0, \"total\": 0}\n",
    "\n",
    "    entity_evaluation[entity][metric] += 1\n"
   ]
  },
  {
   "cell_type": "code",
   "execution_count": 45,
   "metadata": {},
   "outputs": [],
   "source": [
    "# same as before, see if entities from test set match what spaCy currently predicts\n",
    "for data in TRAIN_FOOD_DATA_COMBINED:\n",
    "    sentence = data[0]\n",
    "    entities = data[1][\"entities\"]\n",
    "    for entity in entities:\n",
    "        doc = nlp(sentence)\n",
    "        correct_text = sentence[entity[0]:entity[1]]\n",
    "        for ent in doc.ents:\n",
    "            if ent.label_ == entity[2] and ent.text == correct_text:\n",
    "                update_results(ent.label_, \"correct\")\n",
    "                break\n",
    "        update_results(entity[2], \"total\")\n",
    "\n",
    "sum_total = 0\n",
    "sum_correct = 0"
   ]
  },
  {
   "cell_type": "code",
   "execution_count": 46,
   "metadata": {},
   "outputs": [
    {
     "name": "stdout",
     "output_type": "stream",
     "text": [
      "FOOD | 99.60%\n",
      "\n",
      "Overall accuracy: 99.60%\n"
     ]
    }
   ],
   "source": [
    "for entity in entity_evaluation:\n",
    "    total = entity_evaluation[entity][\"total\"]\n",
    "    correct = entity_evaluation[entity][\"correct\"]\n",
    "\n",
    "    sum_total += total\n",
    "    sum_correct += correct\n",
    "\n",
    "    print(\"{} | {:.2f}%\".format(entity, correct / total * 100))\n",
    "\n",
    "print()\n",
    "print(\"Overall accuracy: {:.2f}%\".format(sum_correct / sum_total * 100))\n",
    "nlp.meta[\"name\"] = \"food_entity_extractor_v2\"\n",
    "nlp.to_disk(\"./models/\")"
   ]
  }
 ],
 "metadata": {
  "kernelspec": {
   "display_name": "Python 3",
   "language": "python",
   "name": "python3"
  },
  "language_info": {
   "codemirror_mode": {
    "name": "ipython",
    "version": 3
   },
   "file_extension": ".py",
   "mimetype": "text/x-python",
   "name": "python",
   "nbconvert_exporter": "python",
   "pygments_lexer": "ipython3",
   "version": "3.10.11"
  },
  "orig_nbformat": 4
 },
 "nbformat": 4,
 "nbformat_minor": 2
}
